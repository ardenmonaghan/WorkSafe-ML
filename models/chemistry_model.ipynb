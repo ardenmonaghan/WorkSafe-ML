{
 "cells": [
  {
   "cell_type": "code",
   "execution_count": 3,
   "metadata": {},
   "outputs": [
    {
     "ename": "ModuleNotFoundError",
     "evalue": "No module named 'pyarrow'",
     "output_type": "error",
     "traceback": [
      "\u001b[0;31m---------------------------------------------------------------------------\u001b[0m",
      "\u001b[0;31mModuleNotFoundError\u001b[0m                       Traceback (most recent call last)",
      "Cell \u001b[0;32mIn[3], line 1\u001b[0m\n\u001b[0;32m----> 1\u001b[0m \u001b[38;5;28;01mimport\u001b[39;00m \u001b[38;5;21;01mpyarrow\u001b[39;00m\n\u001b[1;32m      2\u001b[0m \u001b[38;5;28;01mimport\u001b[39;00m \u001b[38;5;21;01mpandas\u001b[39;00m \u001b[38;5;28;01mas\u001b[39;00m \u001b[38;5;21;01mpd\u001b[39;00m\n\u001b[1;32m      4\u001b[0m splits \u001b[38;5;241m=\u001b[39m {\u001b[38;5;124m'\u001b[39m\u001b[38;5;124mtrain\u001b[39m\u001b[38;5;124m'\u001b[39m: \u001b[38;5;124m'\u001b[39m\u001b[38;5;124mdata/train-00000-of-00001.parquet\u001b[39m\u001b[38;5;124m'\u001b[39m, \u001b[38;5;124m'\u001b[39m\u001b[38;5;124mtest\u001b[39m\u001b[38;5;124m'\u001b[39m: \u001b[38;5;124m'\u001b[39m\u001b[38;5;124mdata/test-00000-of-00001.parquet\u001b[39m\u001b[38;5;124m'\u001b[39m}\n",
      "\u001b[0;31mModuleNotFoundError\u001b[0m: No module named 'pyarrow'"
     ]
    }
   ],
   "source": [
    "import pyarrow\n",
    "import pandas as pd\n",
    "\n",
    "splits = {'train': 'data/train-00000-of-00001.parquet', 'test': 'data/test-00000-of-00001.parquet'}\n",
    "df = pd.read_parquet(\"hf://datasets/rishitdagli/cppe-5/\" + splits[\"train\"])"
   ]
  },
  {
   "cell_type": "code",
   "execution_count": null,
   "metadata": {},
   "outputs": [],
   "source": []
  },
  {
   "cell_type": "markdown",
   "metadata": {},
   "source": [
    "Society for AI Literacy.\n",
    "\n",
    "So in short, we have a couple major goals as an organization. The big thing being that we are trying to make tech and talking about specific topics feel more engaging and not just simply about explaining things. We want to open back and fourth interview style where we maybe have you on one side of a couch and then maybe me or someone else on the other side. We try to have a mix of topics to talk about from general AI to more specific research topics you've been working on. \n",
    "\n",
    "We've been working on sorting out the exact details on how we want to conduct this style of interview, and It will take a litle bit of practice to get the hang of it, but we wanted to talk with you first as we both know you (Paul) and I think it would be easier to first start out and get the hang of things as we continue on doing more interviews. I really want this to become a open-style thing where its not just university students but could be industry members, high school students, graduate students, or people not even specifically in AI who can learn about these topics and understand their implications, which is why we ask these questions. But i do believe we will have a larger target audience of tech enthusiasts as Uofa is just really good for that. \n",
    "\n",
    "In terms of collaboration, one of our main focuses between all 3 branches is gaining media attention, which comes in the form of uploading clips and things to instagram, tiktok, youtube. The reason I like this open interview style is that it allows us to open up the conversation instead of having just a one sided discussion where people just explain things and it almost seemingly goes off from one ear and out the other. Its really hard to get clips and good context out of that. These discussion moments would be used to generally get more attention and can even go further like in UofC SAIL they used an opprotunity to gain media attention with Global News. As a researcher or enthausist in your field its important to be able to talk and have \n",
    "\n",
    "If we were to collaborate as well, it wouldnt just be reaching a Uofa audience but people following sail would be from multiple different universities."
   ]
  },
  {
   "cell_type": "markdown",
   "metadata": {},
   "source": []
  }
 ],
 "metadata": {
  "kernelspec": {
   "display_name": "PyTorch",
   "language": "python",
   "name": "python3"
  },
  "language_info": {
   "codemirror_mode": {
    "name": "ipython",
    "version": 3
   },
   "file_extension": ".py",
   "mimetype": "text/x-python",
   "name": "python",
   "nbconvert_exporter": "python",
   "pygments_lexer": "ipython3",
   "version": "3.11.11"
  }
 },
 "nbformat": 4,
 "nbformat_minor": 2
}
