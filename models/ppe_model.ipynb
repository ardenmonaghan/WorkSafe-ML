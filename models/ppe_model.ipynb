{
 "cells": [
  {
   "cell_type": "code",
   "execution_count": 1,
   "metadata": {},
   "outputs": [
    {
     "name": "stderr",
     "output_type": "stream",
     "text": [
      "Downloading: \"https://github.com/pytorch/vision/zipball/v0.10.0\" to /Users/ardenmonaghan/.cache/torch/hub/v0.10.0.zip\n",
      "Downloading: \"https://download.pytorch.org/models/resnet18-f37072fd.pth\" to /Users/ardenmonaghan/.cache/torch/hub/checkpoints/resnet18-f37072fd.pth\n",
      "100.0%\n"
     ]
    }
   ],
   "source": [
    "import torch\n",
    "model = torch.hub.load('pytorch/vision:v0.10.0', 'resnet18', pretrained=True)\n"
   ]
  },
  {
   "cell_type": "code",
   "execution_count": null,
   "metadata": {},
   "outputs": [],
   "source": [
    "#Idea for project. \n",
    "#Using R-CNN model to detetct if people are wearing safety gear in images. If no detection of helmet or specific sets of safety gear\n",
    "# then the image is classified as not wearing safety gear. \n",
    "#For each image, the model will output the probability of the image being classified as wearing a specific set of safety gear. \n",
    "#1 trained on wearing helmet\n",
    "#1 trained on wearing safety glasses\n",
    "#1 trained on wearing gloves\n",
    "#1 trained on wearing safety boots\n",
    "#1 trained on wearing safety boots and gloves\n",
    "#1 trained on wearing safety boots, gloves and safety glasses\n",
    "#1 trained on wearing none of the safety gear\n",
    "\n"
   ]
  }
 ],
 "metadata": {
  "kernelspec": {
   "display_name": "PyTorch",
   "language": "python",
   "name": "python3"
  },
  "language_info": {
   "codemirror_mode": {
    "name": "ipython",
    "version": 3
   },
   "file_extension": ".py",
   "mimetype": "text/x-python",
   "name": "python",
   "nbconvert_exporter": "python",
   "pygments_lexer": "ipython3",
   "version": "3.11.11"
  }
 },
 "nbformat": 4,
 "nbformat_minor": 2
}
