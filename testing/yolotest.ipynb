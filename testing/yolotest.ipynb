{
 "cells": [
  {
   "cell_type": "code",
   "execution_count": 10,
   "metadata": {},
   "outputs": [
    {
     "name": "stdout",
     "output_type": "stream",
     "text": [
      "loading Roboflow workspace...\n",
      "loading Roboflow project...\n"
     ]
    },
    {
     "name": "stderr",
     "output_type": "stream",
     "text": [
      "Downloading Dataset Version Zip in PPE-Dataset-for-Workplace-Safety-2 to yolov5pytorch:: 100%|██████████| 100617/100617 [00:17<00:00, 5710.62it/s]"
     ]
    },
    {
     "name": "stdout",
     "output_type": "stream",
     "text": [
      "\n"
     ]
    },
    {
     "name": "stderr",
     "output_type": "stream",
     "text": [
      "\n",
      "Extracting Dataset Version Zip to PPE-Dataset-for-Workplace-Safety-2 in yolov5pytorch:: 100%|██████████| 3238/3238 [00:00<00:00, 5211.93it/s]\n"
     ]
    }
   ],
   "source": [
    "#Retrieving the dataset for PPE and its labels from Roboflow.\n",
    "from roboflow import Roboflow\n",
    "rf = Roboflow(api_key=\"HkNwuf9UrXrzz8rGQgEU\")\n",
    "project = rf.workspace(\"siabar\").project(\"ppe-dataset-for-workplace-safety\")\n",
    "version = project.version(2)\n",
    "dataset = version.download(\"yolov5\")           "
   ]
  },
  {
   "cell_type": "code",
   "execution_count": 11,
   "metadata": {},
   "outputs": [
    {
     "name": "stderr",
     "output_type": "stream",
     "text": [
      "Using cache found in /Users/ardenmonaghan/.cache/torch/hub/ultralytics_yolov5_master\n",
      "YOLOv5 🚀 2025-1-11 Python-3.11.11 torch-2.5.1 CPU\n",
      "\n",
      "Fusing layers... \n",
      "YOLOv5s summary: 213 layers, 7225885 parameters, 0 gradients, 16.4 GFLOPs\n",
      "Adding AutoShape... \n"
     ]
    }
   ],
   "source": [
    "import torch\n",
    "import PIL as Image\n",
    "\n",
    "# Initializing the model of YOLOv5 From Ultralytics, using Pytorch\n",
    "model = torch.hub.load(\"ultralytics/yolov5\", \"yolov5s\")"
   ]
  },
  {
   "cell_type": "code",
   "execution_count": 8,
   "metadata": {},
   "outputs": [
    {
     "name": "stderr",
     "output_type": "stream",
     "text": [
      "/Users/ardenmonaghan/.cache/torch/hub/ultralytics_yolov5_master/models/common.py:892: FutureWarning: `torch.cuda.amp.autocast(args...)` is deprecated. Please use `torch.amp.autocast('cuda', args...)` instead.\n",
      "  with amp.autocast(autocast):\n"
     ]
    },
    {
     "data": {
      "text/html": [
       "<div>\n",
       "<style scoped>\n",
       "    .dataframe tbody tr th:only-of-type {\n",
       "        vertical-align: middle;\n",
       "    }\n",
       "\n",
       "    .dataframe tbody tr th {\n",
       "        vertical-align: top;\n",
       "    }\n",
       "\n",
       "    .dataframe thead th {\n",
       "        text-align: right;\n",
       "    }\n",
       "</style>\n",
       "<table border=\"1\" class=\"dataframe\">\n",
       "  <thead>\n",
       "    <tr style=\"text-align: right;\">\n",
       "      <th></th>\n",
       "      <th>xmin</th>\n",
       "      <th>ymin</th>\n",
       "      <th>xmax</th>\n",
       "      <th>ymax</th>\n",
       "      <th>confidence</th>\n",
       "      <th>class</th>\n",
       "      <th>name</th>\n",
       "    </tr>\n",
       "  </thead>\n",
       "  <tbody>\n",
       "    <tr>\n",
       "      <th>0</th>\n",
       "      <td>745.563477</td>\n",
       "      <td>48.423187</td>\n",
       "      <td>1142.764160</td>\n",
       "      <td>720.000000</td>\n",
       "      <td>0.869361</td>\n",
       "      <td>0</td>\n",
       "      <td>person</td>\n",
       "    </tr>\n",
       "    <tr>\n",
       "      <th>1</th>\n",
       "      <td>124.165375</td>\n",
       "      <td>197.314484</td>\n",
       "      <td>842.482056</td>\n",
       "      <td>716.561035</td>\n",
       "      <td>0.627426</td>\n",
       "      <td>0</td>\n",
       "      <td>person</td>\n",
       "    </tr>\n",
       "    <tr>\n",
       "      <th>2</th>\n",
       "      <td>441.338074</td>\n",
       "      <td>439.451843</td>\n",
       "      <td>498.282227</td>\n",
       "      <td>708.494324</td>\n",
       "      <td>0.615022</td>\n",
       "      <td>27</td>\n",
       "      <td>tie</td>\n",
       "    </tr>\n",
       "    <tr>\n",
       "      <th>3</th>\n",
       "      <td>593.967957</td>\n",
       "      <td>376.729858</td>\n",
       "      <td>635.396912</td>\n",
       "      <td>437.149597</td>\n",
       "      <td>0.276735</td>\n",
       "      <td>67</td>\n",
       "      <td>cell phone</td>\n",
       "    </tr>\n",
       "  </tbody>\n",
       "</table>\n",
       "</div>"
      ],
      "text/plain": [
       "         xmin        ymin         xmax        ymax  confidence  class  \\\n",
       "0  745.563477   48.423187  1142.764160  720.000000    0.869361      0   \n",
       "1  124.165375  197.314484   842.482056  716.561035    0.627426      0   \n",
       "2  441.338074  439.451843   498.282227  708.494324    0.615022     27   \n",
       "3  593.967957  376.729858   635.396912  437.149597    0.276735     67   \n",
       "\n",
       "         name  \n",
       "0      person  \n",
       "1      person  \n",
       "2         tie  \n",
       "3  cell phone  "
      ]
     },
     "execution_count": 8,
     "metadata": {},
     "output_type": "execute_result"
    }
   ],
   "source": [
    "im = \"https://ultralytics.com/images/zidane.jpg\"\n",
    "results = model(im)\n",
    "results.pandas().xyxy[0]"
   ]
  },
  {
   "cell_type": "code",
   "execution_count": null,
   "metadata": {},
   "outputs": [],
   "source": []
  }
 ],
 "metadata": {
  "kernelspec": {
   "display_name": "PyTorch",
   "language": "python",
   "name": "python3"
  },
  "language_info": {
   "codemirror_mode": {
    "name": "ipython",
    "version": 3
   },
   "file_extension": ".py",
   "mimetype": "text/x-python",
   "name": "python",
   "nbconvert_exporter": "python",
   "pygments_lexer": "ipython3",
   "version": "3.11.11"
  }
 },
 "nbformat": 4,
 "nbformat_minor": 2
}
