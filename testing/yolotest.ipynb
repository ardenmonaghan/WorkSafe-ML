{
 "cells": [
  {
   "cell_type": "code",
   "execution_count": 52,
   "metadata": {},
   "outputs": [
    {
     "name": "stdout",
     "output_type": "stream",
     "text": [
      "loading Roboflow workspace...\n",
      "loading Roboflow project...\n"
     ]
    }
   ],
   "source": [
    "#Retrieving the dataset for PPE and its labels from Roboflow.\n",
    "import os\n",
    "from roboflow import Roboflow\n",
    "rf = Roboflow(api_key=\"HkNwuf9UrXrzz8rGQgEU\")\n",
    "project = rf.workspace(\"siabar\").project(\"ppe-dataset-for-workplace-safety\")\n",
    "version = project.version(2)\n",
    "dataset = version.download(\"yolov5\")       "
   ]
  },
  {
   "cell_type": "code",
   "execution_count": 51,
   "metadata": {},
   "outputs": [
    {
     "name": "stdout",
     "output_type": "stream",
     "text": [
      "True\n"
     ]
    }
   ],
   "source": [
    "import torch\n",
    "print(torch.backends.mps.is_available())"
   ]
  },
  {
   "cell_type": "code",
   "execution_count": 43,
   "metadata": {},
   "outputs": [
    {
     "name": "stdout",
     "output_type": "stream",
     "text": [
      "cat: yolov5/models/yolov5s.yaml: No such file or directory\n"
     ]
    }
   ],
   "source": [
    "#%cat PPE-Dataset-for-Workplace-Safety-2/data.yaml #All the classes in the dataset and some extra information from roboflow.\n",
    "%cat yolov5/models/yolov5s.yaml #The current model configuration based on the COCO dataset. "
   ]
  },
  {
   "cell_type": "code",
   "execution_count": 31,
   "metadata": {},
   "outputs": [],
   "source": [
    "# Training yolov5 on gpu. \n",
    "#After training yolov5 will produce weight files in a folder called best.pt (best performing model in validation set)"
   ]
  },
  {
   "cell_type": "markdown",
   "metadata": {},
   "source": [
    "## Now training the Model on the dataset.\n",
    "- Some notes:"
   ]
  },
  {
   "cell_type": "code",
   "execution_count": 47,
   "metadata": {},
   "outputs": [
    {
     "name": "stdout",
     "output_type": "stream",
     "text": [
      "['Boots', 'Ear-protection', 'Glass', 'Glove', 'Helmet', 'Mask', 'Person', 'Vest']\n",
      "8\n"
     ]
    }
   ],
   "source": [
    "import yaml\n",
    "from PIL import Image\n",
    "\n",
    "with open('PPE-Dataset-for-Workplace-Safety-2/data.yaml', 'r') as file:\n",
    "    data = yaml.safe_load(file)\n",
    "\n",
    "number_of_classes = data['nc']\n",
    "all_classes = data['names']\n",
    "\n",
    "print(all_classes)\n",
    "print(number_of_classes)"
   ]
  },
  {
   "cell_type": "code",
   "execution_count": 45,
   "metadata": {},
   "outputs": [],
   "source": [
    "# 1. Make changes to yaml file nc: 8 means yolov5 will produce predictions for exactly 8 classes.\n",
    "# nc means the number of classes to be outputted"
   ]
  },
  {
   "cell_type": "code",
   "execution_count": 49,
   "metadata": {},
   "outputs": [
    {
     "name": "stdout",
     "output_type": "stream",
     "text": [
      "/Users/ardenmonaghan/Desktop/Machine Learning/WorkSafe-ML/testing/yolov5\n",
      "/Users/ardenmonaghan/Desktop/Machine Learning/WorkSafe-ML/testing/yolov5\n",
      "\u001b[34m\u001b[1mtrain: \u001b[0mweights=yolov5s.pt, cfg=./models/yolov5s_changed.yaml, data=../PPE-Dataset-for-Workplace-Safety-2/data.yaml, hyp=data/hyps/hyp.scratch-low.yaml, epochs=50, batch_size=16, imgsz=640, rect=False, resume=False, nosave=False, noval=False, noautoanchor=False, noplots=False, evolve=None, evolve_population=data/hyps, resume_evolve=None, bucket=, cache=None, image_weights=False, device=, multi_scale=False, single_cls=False, optimizer=SGD, sync_bn=False, workers=8, project=runs/train, name=yolov5s_changed, exist_ok=False, quad=False, cos_lr=False, label_smoothing=0.0, patience=100, freeze=[0], save_period=-1, seed=0, local_rank=-1, entity=None, upload_dataset=False, bbox_interval=-1, artifact_alias=latest, ndjson_console=False, ndjson_file=False\n",
      "\u001b[34m\u001b[1mgithub: \u001b[0m⚠️ YOLOv5 is out of date by 3 commits. Use 'git pull' or 'git clone https://github.com/ultralytics/yolov5' to update.\n",
      "fatal: cannot change to '/Users/ardenmonaghan/Desktop/Machine': No such file or directory\n",
      "YOLOv5 🚀 2025-1-12 Python-3.11.11 torch-2.5.1 CPU\n",
      "\n",
      "\u001b[34m\u001b[1mhyperparameters: \u001b[0mlr0=0.01, lrf=0.01, momentum=0.937, weight_decay=0.0005, warmup_epochs=3.0, warmup_momentum=0.8, warmup_bias_lr=0.1, box=0.05, cls=0.5, cls_pw=1.0, obj=1.0, obj_pw=1.0, iou_t=0.2, anchor_t=4.0, fl_gamma=0.0, hsv_h=0.015, hsv_s=0.7, hsv_v=0.4, degrees=0.0, translate=0.1, scale=0.5, shear=0.0, perspective=0.0, flipud=0.0, fliplr=0.5, mosaic=1.0, mixup=0.0, copy_paste=0.0\n",
      "\u001b[34m\u001b[1mComet: \u001b[0mrun 'pip install comet_ml' to automatically track and visualize YOLOv5 🚀 runs in Comet\n",
      "\u001b[34m\u001b[1mTensorBoard: \u001b[0mStart with 'tensorboard --logdir runs/train', view at http://localhost:6006/\n",
      "Downloading https://github.com/ultralytics/assets/releases/download/v0.0.0/Arial.ttf to /Users/ardenmonaghan/Library/Application Support/Ultralytics/Arial.ttf...\n",
      "100%|████████████████████████████████████████| 755k/755k [00:00<00:00, 3.66MB/s]\n",
      "Downloading https://github.com/ultralytics/yolov5/releases/download/v7.0/yolov5s.pt to yolov5s.pt...\n",
      "100%|██████████████████████████████████████| 14.1M/14.1M [00:04<00:00, 3.05MB/s]\n",
      "\n",
      "\n",
      "                 from  n    params  module                                  arguments                     \n",
      "  0                -1  1      3520  models.common.Conv                      [3, 32, 6, 2, 2]              \n",
      "  1                -1  1     18560  models.common.Conv                      [32, 64, 3, 2]                \n",
      "  2                -1  1     18816  models.common.C3                        [64, 64, 1]                   \n",
      "  3                -1  1     73984  models.common.Conv                      [64, 128, 3, 2]               \n",
      "  4                -1  2    115712  models.common.C3                        [128, 128, 2]                 \n",
      "  5                -1  1    295424  models.common.Conv                      [128, 256, 3, 2]              \n",
      "  6                -1  3    625152  models.common.C3                        [256, 256, 3]                 \n",
      "  7                -1  1   1180672  models.common.Conv                      [256, 512, 3, 2]              \n",
      "  8                -1  1   1182720  models.common.C3                        [512, 512, 1]                 \n",
      "  9                -1  1    656896  models.common.SPPF                      [512, 512, 5]                 \n",
      " 10                -1  1    131584  models.common.Conv                      [512, 256, 1, 1]              \n",
      " 11                -1  1         0  torch.nn.modules.upsampling.Upsample    [None, 2, 'nearest']          \n",
      " 12           [-1, 6]  1         0  models.common.Concat                    [1]                           \n",
      " 13                -1  1    361984  models.common.C3                        [512, 256, 1, False]          \n",
      " 14                -1  1     33024  models.common.Conv                      [256, 128, 1, 1]              \n",
      " 15                -1  1         0  torch.nn.modules.upsampling.Upsample    [None, 2, 'nearest']          \n",
      " 16           [-1, 4]  1         0  models.common.Concat                    [1]                           \n",
      " 17                -1  1     90880  models.common.C3                        [256, 128, 1, False]          \n",
      " 18                -1  1    147712  models.common.Conv                      [128, 128, 3, 2]              \n",
      " 19          [-1, 14]  1         0  models.common.Concat                    [1]                           \n",
      " 20                -1  1    296448  models.common.C3                        [256, 256, 1, False]          \n",
      " 21                -1  1    590336  models.common.Conv                      [256, 256, 3, 2]              \n",
      " 22          [-1, 10]  1         0  models.common.Concat                    [1]                           \n",
      " 23                -1  1   1182720  models.common.C3                        [512, 512, 1, False]          \n",
      " 24      [17, 20, 23]  1     35061  models.yolo.Detect                      [8, [[10, 13, 16, 30, 33, 23], [30, 61, 62, 45, 59, 119], [116, 90, 156, 198, 373, 326]], [128, 256, 512]]\n",
      "YOLOv5s_changed summary: 214 layers, 7041205 parameters, 7041205 gradients, 16.0 GFLOPs\n",
      "\n",
      "Transferred 342/349 items from yolov5s.pt\n",
      "\u001b[34m\u001b[1moptimizer:\u001b[0m SGD(lr=0.01) with parameter groups 57 weight(decay=0.0), 60 weight(decay=0.0005), 60 bias\n",
      "\u001b[34m\u001b[1mtrain: \u001b[0mScanning /Users/ardenmonaghan/Desktop/Machine Learning/WorkSafe-ML/testin\u001b[0m\n",
      "\u001b[34m\u001b[1mtrain: \u001b[0mWARNING ⚠️ /Users/ardenmonaghan/Desktop/Machine Learning/WorkSafe-ML/testing/yolov5/PPE-Dataset-for-Workplace-Safety-2/train/images/Video2_167_jpg.rf.ecac3a2bd007ef8b995c3da9a574c55f.jpg: 1 duplicate labels removed\n",
      "\u001b[34m\u001b[1mtrain: \u001b[0mWARNING ⚠️ /Users/ardenmonaghan/Desktop/Machine Learning/WorkSafe-ML/testing/yolov5/PPE-Dataset-for-Workplace-Safety-2/train/images/Video2_167_jpg.rf.f51c1db34bc3315314a8d3dbb3bd8e8d.jpg: 1 duplicate labels removed\n",
      "\u001b[34m\u001b[1mtrain: \u001b[0mNew cache created: /Users/ardenmonaghan/Desktop/Machine Learning/WorkSafe-ML/testing/yolov5/PPE-Dataset-for-Workplace-Safety-2/train/labels.cache\n",
      "\u001b[34m\u001b[1mval: \u001b[0mScanning /Users/ardenmonaghan/Desktop/Machine Learning/WorkSafe-ML/testing/\u001b[0m\n",
      "\u001b[34m\u001b[1mval: \u001b[0mNew cache created: /Users/ardenmonaghan/Desktop/Machine Learning/WorkSafe-ML/testing/yolov5/PPE-Dataset-for-Workplace-Safety-2/valid/labels.cache\n",
      "\n",
      "\u001b[34m\u001b[1mAutoAnchor: \u001b[0m4.91 anchors/target, 1.000 Best Possible Recall (BPR). Current anchors are a good fit to dataset ✅\n",
      "Plotting labels to runs/train/yolov5s_changed2/labels.jpg... \n",
      "/Users/ardenmonaghan/Desktop/Machine Learning/WorkSafe-ML/testing/yolov5/train.py:355: FutureWarning: `torch.cuda.amp.GradScaler(args...)` is deprecated. Please use `torch.amp.GradScaler('cuda', args...)` instead.\n",
      "  scaler = torch.cuda.amp.GradScaler(enabled=amp)\n",
      "Image sizes 640 train, 640 val\n",
      "Using 8 dataloader workers\n",
      "Logging results to \u001b[1mruns/train/yolov5s_changed2\u001b[0m\n",
      "Starting training for 50 epochs...\n",
      "\n",
      "      Epoch    GPU_mem   box_loss   obj_loss   cls_loss  Instances       Size\n",
      "  0%|          | 0/71 [00:00<?, ?it/s]/Users/ardenmonaghan/Desktop/Machine Learning/WorkSafe-ML/testing/yolov5/train.py:412: FutureWarning: `torch.cuda.amp.autocast(args...)` is deprecated. Please use `torch.amp.autocast('cuda', args...)` instead.\n",
      "  with torch.cuda.amp.autocast(amp):\n",
      "       0/49         0G     0.1181    0.04995    0.06077        125        640:  /Users/ardenmonaghan/Desktop/Machine Learning/WorkSafe-ML/testing/yolov5/train.py:412: FutureWarning: `torch.cuda.amp.autocast(args...)` is deprecated. Please use `torch.amp.autocast('cuda', args...)` instead.\n",
      "  with torch.cuda.amp.autocast(amp):\n",
      "       0/49         0G     0.1185    0.04739    0.06159        105        640:  /Users/ardenmonaghan/Desktop/Machine Learning/WorkSafe-ML/testing/yolov5/train.py:412: FutureWarning: `torch.cuda.amp.autocast(args...)` is deprecated. Please use `torch.amp.autocast('cuda', args...)` instead.\n",
      "  with torch.cuda.amp.autocast(amp):\n",
      "       0/49         0G     0.1188    0.04437     0.0621         88        640:  /Users/ardenmonaghan/Desktop/Machine Learning/WorkSafe-ML/testing/yolov5/train.py:412: FutureWarning: `torch.cuda.amp.autocast(args...)` is deprecated. Please use `torch.amp.autocast('cuda', args...)` instead.\n",
      "  with torch.cuda.amp.autocast(amp):\n",
      "^C\n"
     ]
    }
   ],
   "source": [
    "%cd /Users/ardenmonaghan/Desktop/Machine Learning/WorkSafe-ML/testing/yolov5\n",
    "print(os.getcwd())\n",
    "!python train.py --img 640 --batch 16 --epochs 50 --device mps --data ../PPE-Dataset-for-Workplace-Safety-2/data.yaml --cfg ./models/yolov5s_changed.yaml --weights 'yolov5s.pt' --name yolov5s_changed"
   ]
  },
  {
   "cell_type": "code",
   "execution_count": null,
   "metadata": {},
   "outputs": [],
   "source": []
  }
 ],
 "metadata": {
  "kernelspec": {
   "display_name": "PyTorch",
   "language": "python",
   "name": "python3"
  },
  "language_info": {
   "codemirror_mode": {
    "name": "ipython",
    "version": 3
   },
   "file_extension": ".py",
   "mimetype": "text/x-python",
   "name": "python",
   "nbconvert_exporter": "python",
   "pygments_lexer": "ipython3",
   "version": "3.11.11"
  }
 },
 "nbformat": 4,
 "nbformat_minor": 2
}
